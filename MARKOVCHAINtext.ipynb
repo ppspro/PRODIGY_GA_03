{
  "nbformat": 4,
  "nbformat_minor": 0,
  "metadata": {
    "colab": {
      "provenance": [],
      "gpuType": "T4",
      "authorship_tag": "ABX9TyOfHLqMvOomlMkAfODS8o7o"
    },
    "kernelspec": {
      "name": "python3",
      "display_name": "Python 3"
    },
    "language_info": {
      "name": "python"
    },
    "accelerator": "GPU"
  },
  "cells": [
    {
      "cell_type": "code",
      "execution_count": null,
      "metadata": {
        "colab": {
          "base_uri": "https://localhost:8080/"
        },
        "id": "mk8ezyxThug8",
        "outputId": "df6aeb7d-089f-48dd-f9ac-5647a59d5244"
      },
      "outputs": [
        {
          "output_type": "stream",
          "name": "stdout",
          "text": [
            "knight was a time there was brave and strong he fought many battles and won everyone admired the brave knight who fought many battles and strong he fought many battles and won everyone admired the knight who fought dragons the knight who fought many battles and won everyone admired the\n"
          ]
        }
      ],
      "source": [
        "import random\n",
        "import re\n",
        "\n",
        "# Sample text\n",
        "sample_text = \"\"\"\n",
        "Once upon a time there was a brave knight who fought dragons. The knight was brave and strong.\n",
        "He fought many battles and won. Everyone admired the brave knight.\n",
        "\"\"\"\n",
        "\n",
        "def build_markov_chain(text):\n",
        "    words = re.findall(r'\\b\\w+\\b', text.lower())\n",
        "    markov_chain = {}\n",
        "\n",
        "    for i in range(len(words) - 1):\n",
        "        word = words[i]\n",
        "        next_word = words[i + 1]\n",
        "        if word not in markov_chain:\n",
        "            markov_chain[word] = []\n",
        "        markov_chain[word].append(next_word)\n",
        "\n",
        "    return markov_chain\n",
        "\n",
        "def generate_text(chain, start_word, length=50):\n",
        "    word = start_word\n",
        "    generated_text = [word]\n",
        "\n",
        "    for _ in range(length - 1):\n",
        "        next_words = chain.get(word)\n",
        "        if not next_words:\n",
        "            break\n",
        "        word = random.choice(next_words)\n",
        "        generated_text.append(word)\n",
        "\n",
        "    return ' '.join(generated_text)\n",
        "\n",
        "# Build the Markov chain\n",
        "markov_chain = build_markov_chain(sample_text)\n",
        "\n",
        "# Generate text starting from a chosen word\n",
        "start_word = 'knight'\n",
        "generated_text = generate_text(markov_chain, start_word)\n",
        "\n",
        "print(generated_text)\n"
      ]
    }
  ]
}